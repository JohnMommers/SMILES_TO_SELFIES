{
  "nbformat": 4,
  "nbformat_minor": 0,
  "metadata": {
    "colab": {
      "name": "SMILES_TO_SELFIES.ipynb",
      "provenance": [],
      "authorship_tag": "ABX9TyNMDsCRbJdy2LCWOEkXs9s1",
      "include_colab_link": true
    },
    "kernelspec": {
      "name": "python3",
      "display_name": "Python 3"
    }
  },
  "cells": [
    {
      "cell_type": "markdown",
      "metadata": {
        "id": "view-in-github",
        "colab_type": "text"
      },
      "source": [
        "<a href=\"https://colab.research.google.com/github/JohnMommers/SMILES_TO_SELFIES/blob/main/SMILES_TO_SELFIES.ipynb\" target=\"_parent\"><img src=\"https://colab.research.google.com/assets/colab-badge.svg\" alt=\"Open In Colab\"/></a>"
      ]
    },
    {
      "cell_type": "markdown",
      "metadata": {
        "id": "hMlPd43mBiSL"
      },
      "source": [
        "See\r\n",
        "https://github.com/aspuru-guzik-group/selfies\r\n",
        "\r\n",
        "Self-Referencing Embedded Strings (SELFIES): A 100% robust molecular string representation\r\n",
        "Mario Krenn, Florian Haese, AkshatKumar Nigam, Pascal Friederich, Alan Aspuru-Guzik\r\n",
        "Machine Learning: Science and Technology 1, 045024 (2020), extensive blog post January 2021.\r\n",
        "Major contributors since v1.0.0: Alston Lo and Seyone Chithrananda\r\n",
        "\r\n",
        "A main objective is to use SELFIES as direct input into machine learning models,\r\n",
        "in particular in generative models, for the generation of molecular graphs\r\n",
        "which are syntactically and semantically valid."
      ]
    },
    {
      "cell_type": "code",
      "metadata": {
        "colab": {
          "base_uri": "https://localhost:8080/"
        },
        "id": "sWcoH2IM-dOM",
        "outputId": "ca13b24f-cb60-4e32-e816-a0a2f3157343"
      },
      "source": [
        "pip install selfies"
      ],
      "execution_count": 2,
      "outputs": [
        {
          "output_type": "stream",
          "text": [
            "Collecting selfies\n",
            "  Downloading https://files.pythonhosted.org/packages/cc/a5/4b190ee192394068827f06a9e391f3e169cf6265b6491ef8a654cb763dcb/selfies-1.0.3-py3-none-any.whl\n",
            "Installing collected packages: selfies\n",
            "Successfully installed selfies-1.0.3\n"
          ],
          "name": "stdout"
        }
      ]
    },
    {
      "cell_type": "code",
      "metadata": {
        "id": "jdcpZLxv-X0J"
      },
      "source": [
        "import selfies as sf"
      ],
      "execution_count": 3,
      "outputs": []
    },
    {
      "cell_type": "code",
      "metadata": {
        "id": "RzI8nfwm-XwZ"
      },
      "source": [
        "smiles = 'NCCc1ccccc1C#CO'"
      ],
      "execution_count": 15,
      "outputs": []
    },
    {
      "cell_type": "code",
      "metadata": {
        "colab": {
          "base_uri": "https://localhost:8080/",
          "height": 36
        },
        "id": "NsHOnKb5-XtR",
        "outputId": "3ce52409-34b6-4df3-86ab-2641dfc2a9b9"
      },
      "source": [
        "encoded_smiles = sf.encoder(smiles)\r\n",
        "encoded_smiles"
      ],
      "execution_count": 16,
      "outputs": [
        {
          "output_type": "execute_result",
          "data": {
            "application/vnd.google.colaboratory.intrinsic+json": {
              "type": "string"
            },
            "text/plain": [
              "'[N][C][C][C][=C][C][=C][C][=C][Ring1][Branch1_2][C][#C][O]'"
            ]
          },
          "metadata": {
            "tags": []
          },
          "execution_count": 16
        }
      ]
    },
    {
      "cell_type": "code",
      "metadata": {
        "colab": {
          "base_uri": "https://localhost:8080/",
          "height": 36
        },
        "id": "moRXGW72-Xp5",
        "outputId": "04a4cc50-c2d8-4df5-83ca-b360d7bc463f"
      },
      "source": [
        "decoded_smiles = sf.decoder(encoded_smiles)\r\n",
        "decoded_smiles"
      ],
      "execution_count": 17,
      "outputs": [
        {
          "output_type": "execute_result",
          "data": {
            "application/vnd.google.colaboratory.intrinsic+json": {
              "type": "string"
            },
            "text/plain": [
              "'NCCC1=CC=CC=C1C#CO'"
            ]
          },
          "metadata": {
            "tags": []
          },
          "execution_count": 17
        }
      ]
    },
    {
      "cell_type": "code",
      "metadata": {
        "colab": {
          "base_uri": "https://localhost:8080/"
        },
        "id": "T05DgYTM-Xli",
        "outputId": "62878a05-f765-415d-f1d9-8b826b20a2dd"
      },
      "source": [
        "symbols_smiles = list(sf.split_selfies(encoded_smiles))\r\n",
        "symbols_smiles"
      ],
      "execution_count": 18,
      "outputs": [
        {
          "output_type": "execute_result",
          "data": {
            "text/plain": [
              "['[N]',\n",
              " '[C]',\n",
              " '[C]',\n",
              " '[C]',\n",
              " '[=C]',\n",
              " '[C]',\n",
              " '[=C]',\n",
              " '[C]',\n",
              " '[=C]',\n",
              " '[Ring1]',\n",
              " '[Branch1_2]',\n",
              " '[C]',\n",
              " '[#C]',\n",
              " '[O]']"
            ]
          },
          "metadata": {
            "tags": []
          },
          "execution_count": 18
        }
      ]
    },
    {
      "cell_type": "code",
      "metadata": {
        "id": "iAIFcLGu-VVa"
      },
      "source": [
        "import selfies as sf\r\n",
        "\r\n",
        "benzene = \"c1ccccc1\"\r\n",
        "\r\n",
        "# SMILES --> SELFIES translation\r\n",
        "encoded_selfies = sf.encoder(benzene)  # '[C][=C][C][=C][C][=C][Ring1][Branch1_2]'\r\n",
        "\r\n",
        "# SELFIES --> SMILES translation\r\n",
        "decoded_smiles = sf.decoder(encoded_selfies)  # 'C1=CC=CC=C1'\r\n",
        "\r\n",
        "len_benzene = sf.len_selfies(encoded_selfies)  # 8\r\n",
        "\r\n",
        "symbols_benzene = list(sf.split_selfies(encoded_selfies))\r\n",
        "# ['[C]', '[=C]', '[C]', '[=C]', '[C]', '[=C]', '[Ring1]', '[Branch1_2]']"
      ],
      "execution_count": null,
      "outputs": []
    },
    {
      "cell_type": "markdown",
      "metadata": {
        "id": "BKtTPUSv_ud6"
      },
      "source": [
        ""
      ]
    },
    {
      "cell_type": "code",
      "metadata": {
        "colab": {
          "base_uri": "https://localhost:8080/"
        },
        "id": "cfNE4MSQ_u8B",
        "outputId": "dba336ba-6b6e-49cc-964b-080457193d22"
      },
      "source": [
        "import selfies as sf\r\n",
        "\r\n",
        "dataset = ['[C][O][C]', '[F][C][F]', '[O][=O]', '[C][C][O][C][C]']\r\n",
        "alphabet = sf.get_alphabet_from_selfies(dataset)\r\n",
        "alphabet.add('[nop]')  # '[nop]' is a special padding symbol\r\n",
        "alphabet = list(sorted(alphabet))\r\n",
        "print(alphabet)  # ['[=O]', '[C]', '[F]', '[O]', '[nop]']\r\n",
        "\r\n",
        "pad_to_len = max(sf.len_selfies(s) for s in dataset)  # 5\r\n",
        "symbol_to_idx = {s: i for i, s in enumerate(alphabet)}\r\n",
        "\r\n",
        "# SELFIES to label encode\r\n",
        "dimethyl_ether = dataset[1]  # '[C][O][C]'\r\n",
        "\r\n",
        "# [1, 3, 1, 4, 4]\r\n",
        "print(sf.selfies_to_encoding(dimethyl_ether,\r\n",
        "                             vocab_stoi=symbol_to_idx,\r\n",
        "                             pad_to_len=pad_to_len,\r\n",
        "                             enc_type='label'))\r\n",
        "                             \r\n",
        "# [[0, 1, 0, 0, 0], [0, 0, 0, 1, 0], [0, 1, 0, 0, 0], [0, 0, 0, 0, 1], [0, 0, 0, 0, 1]]\r\n",
        "print(sf.selfies_to_encoding(dimethyl_ether,\r\n",
        "                             vocab_stoi=symbol_to_idx,\r\n",
        "                             pad_to_len=pad_to_len,\r\n",
        "                             enc_type='one_hot'))"
      ],
      "execution_count": 20,
      "outputs": [
        {
          "output_type": "stream",
          "text": [
            "['[=O]', '[C]', '[F]', '[O]', '[nop]']\n",
            "[2, 1, 2, 4, 4]\n",
            "[[0, 0, 1, 0, 0], [0, 1, 0, 0, 0], [0, 0, 1, 0, 0], [0, 0, 0, 0, 1], [0, 0, 0, 0, 1]]\n"
          ],
          "name": "stdout"
        }
      ]
    }
  ]
}